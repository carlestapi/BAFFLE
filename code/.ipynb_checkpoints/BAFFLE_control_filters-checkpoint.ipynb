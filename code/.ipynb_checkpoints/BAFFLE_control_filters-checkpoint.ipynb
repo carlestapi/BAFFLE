{
 "cells": [
  {
   "cell_type": "code",
   "execution_count": 1,
   "metadata": {},
   "outputs": [],
   "source": [
    "from ctypes import *\n",
    "import sys\n",
    "from time import sleep\n",
    "\n",
    "import os, random, shutil, datetime, time\n"
   ]
  },
  {
   "cell_type": "code",
   "execution_count": 2,
   "metadata": {},
   "outputs": [
    {
     "name": "stdout",
     "output_type": "stream",
     "text": [
      "Opening phidget object... ID= 498249\n",
      "Waiting for attach....\n",
      "Setting the data rate for each sensor index to 4ms....\n"
     ]
    }
   ],
   "source": [
    "#DATA_path='/Users/ESB/ESB_DATA/ESBOT_data/20171114_Pilot_DoseResponse/'  #MyCloud/rpm/ESB_DATA/ESBOT_data\n",
    "CODE_path='./lib/'  #MyCloud/rpm/ESB_CODDE/ESBOT_data\n",
    "sys.path.insert(0, CODE_path)\n",
    "from BAFFLE_lib import *"
   ]
  },
  {
   "cell_type": "markdown",
   "metadata": {},
   "source": [
    "## Define Optical Configurations"
   ]
  },
  {
   "cell_type": "code",
   "execution_count": 3,
   "metadata": {},
   "outputs": [],
   "source": [
    "#GFP\n",
    "opt_config_GFP=dict()\n",
    "opt_config_GFP['channelID']='GFP'\n",
    "opt_config_GFP['ledOutput']=3\n",
    "opt_config_GFP['ledColor']='GREEN'\n",
    "opt_config_GFP['filterPos']=3000\n",
    "opt_config_GFP['exposure']=1.5  #in seconds\n",
    "\n",
    "#PHASE\n",
    "opt_config_PHASE=dict()\n",
    "opt_config_PHASE['channelID']='PHASE'\n",
    "opt_config_PHASE['ledOutput']=2\n",
    "opt_config_PHASE['ledColor']='WHITE'\n",
    "opt_config_PHASE['filterPos']=1000\n",
    "opt_config_PHASE['exposure']=2.5  #in seconds\n",
    "\n",
    "#opt_configs=[opt_config_PHASE, opt_config_GFP]\n",
    "opt_configs=[opt_config_PHASE]\n",
    "\n"
   ]
  },
  {
   "cell_type": "markdown",
   "metadata": {},
   "source": [
    "## Initialize Phidgets"
   ]
  },
  {
   "cell_type": "code",
   "execution_count": 4,
   "metadata": {},
   "outputs": [],
   "source": [
    "#FILTER_setHome()"
   ]
  },
  {
   "cell_type": "code",
   "execution_count": null,
   "metadata": {},
   "outputs": [],
   "source": []
  },
  {
   "cell_type": "code",
   "execution_count": 5,
   "metadata": {},
   "outputs": [
    {
     "name": "stdout",
     "output_type": "stream",
     "text": [
      "\tTurning On WHITE LED\n"
     ]
    }
   ],
   "source": [
    "LED_turnON(opt_config_PHASE['ledColor'],opt_config_PHASE['ledOutput'])"
   ]
  },
  {
   "cell_type": "code",
   "execution_count": 6,
   "metadata": {},
   "outputs": [
    {
     "name": "stdout",
     "output_type": "stream",
     "text": [
      "\tTurning Off WHITE LED\n"
     ]
    }
   ],
   "source": [
    "LED_turnOFF(opt_config_PHASE['ledColor'],opt_config_PHASE['ledOutput'])"
   ]
  },
  {
   "cell_type": "code",
   "execution_count": 7,
   "metadata": {
    "scrolled": true
   },
   "outputs": [
    {
     "name": "stdout",
     "output_type": "stream",
     "text": [
      "\t________ PHASE ________\n",
      "\t2019-05-17 17:58:33\n",
      "\t FILTER_moveTo (Stepper desingaged)\n",
      "\tTurning On WHITE LED\n",
      "\tClick! (2.5 sec)\n",
      "\tTurning Off WHITE LED\n",
      " \n"
     ]
    }
   ],
   "source": [
    "\n",
    "shoot_single(opt_config_PHASE);\n",
    "#shoot_single(opt_config_PHASE);\n",
    "\n",
    "#shoot_multichannel(opt_configs);\n"
   ]
  },
  {
   "cell_type": "code",
   "execution_count": 8,
   "metadata": {
    "scrolled": true
   },
   "outputs": [
    {
     "name": "stdout",
     "output_type": "stream",
     "text": [
      "*** 0 sec\n",
      "\t________ PHASE ________\n",
      "\t2019-05-17 17:58:53\n",
      "\t FILTER_moveTo (Stepper desingaged)\n",
      "\tTurning On WHITE LED\n",
      "\tClick! (2.5 sec)\n",
      "\tTurning Off WHITE LED\n",
      " \n"
     ]
    },
    {
     "ename": "KeyboardInterrupt",
     "evalue": "",
     "output_type": "error",
     "traceback": [
      "\u001b[0;31m---------------------------------------------------------------------------\u001b[0m",
      "\u001b[0;31mKeyboardInterrupt\u001b[0m                         Traceback (most recent call last)",
      "\u001b[0;32m<ipython-input-8-54dc5033697f>\u001b[0m in \u001b[0;36m<module>\u001b[0;34m\u001b[0m\n\u001b[1;32m      2\u001b[0m \u001b[0mdt\u001b[0m\u001b[0;34m=\u001b[0m\u001b[0;36m20\u001b[0m\u001b[0;34m*\u001b[0m\u001b[0;36m60\u001b[0m  \u001b[0;31m#Time between exposure (seconds)\u001b[0m\u001b[0;34m\u001b[0m\u001b[0;34m\u001b[0m\u001b[0m\n\u001b[1;32m      3\u001b[0m \u001b[0;34m\u001b[0m\u001b[0m\n\u001b[0;32m----> 4\u001b[0;31m \u001b[0mshoot_timelapse\u001b[0m\u001b[0;34m(\u001b[0m\u001b[0mopt_configs\u001b[0m\u001b[0;34m,\u001b[0m \u001b[0mT\u001b[0m\u001b[0;34m,\u001b[0m \u001b[0mdt\u001b[0m\u001b[0;34m)\u001b[0m\u001b[0;34m\u001b[0m\u001b[0;34m\u001b[0m\u001b[0m\n\u001b[0m",
      "\u001b[0;32m~/Google Drive/BAFFLE/code/lib/BAFFLE_lib.py\u001b[0m in \u001b[0;36mshoot_timelapse\u001b[0;34m(opt_configs, T, dt)\u001b[0m\n\u001b[1;32m    345\u001b[0m         \u001b[0;32melse\u001b[0m\u001b[0;34m:\u001b[0m\u001b[0;34m\u001b[0m\u001b[0;34m\u001b[0m\u001b[0m\n\u001b[1;32m    346\u001b[0m             \u001b[0mt_elapsed\u001b[0m\u001b[0;34m=\u001b[0m\u001b[0mtime\u001b[0m\u001b[0;34m.\u001b[0m\u001b[0mtime\u001b[0m\u001b[0;34m(\u001b[0m\u001b[0;34m)\u001b[0m\u001b[0;34m-\u001b[0m\u001b[0mt_shoot\u001b[0m\u001b[0;34m\u001b[0m\u001b[0;34m\u001b[0m\u001b[0m\n\u001b[0;32m--> 347\u001b[0;31m         \u001b[0mtime\u001b[0m\u001b[0;34m.\u001b[0m\u001b[0msleep\u001b[0m\u001b[0;34m(\u001b[0m\u001b[0;36m.1\u001b[0m\u001b[0;34m)\u001b[0m\u001b[0;34m\u001b[0m\u001b[0;34m\u001b[0m\u001b[0m\n\u001b[0m\u001b[1;32m    348\u001b[0m         \u001b[0mt_total\u001b[0m\u001b[0;34m=\u001b[0m\u001b[0mtime\u001b[0m\u001b[0;34m.\u001b[0m\u001b[0mtime\u001b[0m\u001b[0;34m(\u001b[0m\u001b[0;34m)\u001b[0m\u001b[0;34m-\u001b[0m\u001b[0mt0\u001b[0m\u001b[0;34m\u001b[0m\u001b[0;34m\u001b[0m\u001b[0m\n\u001b[1;32m    349\u001b[0m         \u001b[0;31m#FILTER_goHome()\u001b[0m\u001b[0;34m\u001b[0m\u001b[0;34m\u001b[0m\u001b[0;34m\u001b[0m\u001b[0m\n",
      "\u001b[0;31mKeyboardInterrupt\u001b[0m: "
     ]
    }
   ],
   "source": [
    "T=48*60*60 #Length of Experiment (seconds)\n",
    "dt=1*60  #Time between exposure (seconds)\n",
    "\n",
    "shoot_timelapse(opt_configs, T, dt)"
   ]
  },
  {
   "cell_type": "code",
   "execution_count": null,
   "metadata": {},
   "outputs": [],
   "source": [
    "BAFFLE_exit()"
   ]
  },
  {
   "cell_type": "code",
   "execution_count": null,
   "metadata": {},
   "outputs": [],
   "source": [
    "\n",
    "#engage_stepper()\n",
    "\n"
   ]
  },
  {
   "cell_type": "code",
   "execution_count": null,
   "metadata": {},
   "outputs": [],
   "source": []
  }
 ],
 "metadata": {
  "kernelspec": {
   "display_name": "Python 3",
   "language": "python",
   "name": "python3"
  },
  "language_info": {
   "codemirror_mode": {
    "name": "ipython",
    "version": 3
   },
   "file_extension": ".py",
   "mimetype": "text/x-python",
   "name": "python",
   "nbconvert_exporter": "python",
   "pygments_lexer": "ipython3",
   "version": "3.7.3"
  }
 },
 "nbformat": 4,
 "nbformat_minor": 2
}
